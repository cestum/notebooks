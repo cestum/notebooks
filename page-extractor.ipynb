{
 "cells": [
  {
   "cell_type": "code",
   "execution_count": null,
   "metadata": {},
   "outputs": [],
   "source": [
    "import urllib\n",
    "import re\n",
    "from bs4 import BeautifulSoup\n",
    "from IPython.display import display, Markdown, Latex, display_javascript\n",
    "\n",
    "\n",
    "def make_cell(s):\n",
    "    display_javascript(\"\"\"var t_cell = IPython.notebook.insert_cell_below()\n",
    "    t_cell.set_text(\"\\\\n\" + t_cell.get_text() + \"\\\\r\\\\n\\\\n{}\");\n",
    "    var t_index = IPython.notebook.get_cells().indexOf(t_cell);\n",
    "    IPython.notebook.to_markdown(t_index);\n",
    "    IPython.notebook.get_cell(t_index).render();\"\"\".format(s), raw=True)\n",
    "\n",
    "\n",
    "    \n",
    "def extractor(text):\n",
    "    str = ''\n",
    "    for index, line in enumerate(text.splitlines()):\n",
    "        thisline = line.strip()\n",
    "        if(thisline.startswith(\"// \")):\n",
    "            thisline = re.sub('^//(.*?)$','\\\\1',thisline)\n",
    "            thisline = thisline.replace(\"(**)\", \"(*)\").replace(\"\\\"\", \"'\")\n",
    "            if(index == 0):\n",
    "                str += '** %s **\\\\n' % thisline\n",
    "            else:\n",
    "                str += '\\\\n\\\\t'\n",
    "                str += thisline\n",
    "    make_cell(str)\n",
    "    return\n",
    "            \n",
    "count = 1\n",
    "while (count < 100):\n",
    "    url = \"http://aperiodic.net/phil/scala/s-99/p%s.scala\" % str(count).zfill(2)\n",
    "    html = urllib.urlopen(url).read()\n",
    "    soup = BeautifulSoup(html)\n",
    "\n",
    "    # kill all script and style elements\n",
    "    for script in soup([\"script\", \"style\"]):\n",
    "        script.extract()    # rip it out\n",
    "\n",
    "    # get text\n",
    "    text = soup.get_text().encode('ascii', 'ignore').decode('ascii')\n",
    "                          \n",
    "    extractor(text)\n",
    "    count = count + 1\n",
    "    print('\\r\\n')\n",
    "\n"
   ]
  }
 ],
 "metadata": {
  "kernelspec": {
   "display_name": "Python 2",
   "language": "python",
   "name": "python2"
  },
  "language_info": {
   "codemirror_mode": {
    "name": "ipython",
    "version": 2
   },
   "file_extension": ".py",
   "mimetype": "text/x-python",
   "name": "python",
   "nbconvert_exporter": "python",
   "pygments_lexer": "ipython2",
   "version": "2.7.12"
  }
 },
 "nbformat": 4,
 "nbformat_minor": 2
}
