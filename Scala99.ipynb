{
 "cells": [
  {
   "cell_type": "markdown",
   "metadata": {},
   "source": [
    "### 99 Problems in Scala\n",
    "\n",
    "Questios created from http://aperiodic.net/phil/scala/s-99/. Thanks!"
   ]
  },
  {
   "cell_type": "markdown",
   "metadata": {},
   "source": [
    "---\n",
    "\n",
    "**  P01 (*) Find the last element of a list. **\n",
    "\n",
    "\t     Example:\n",
    "\t     scala> last(List(1, 1, 2, 3, 5, 8))\n",
    "\t     res0: Int = 8"
   ]
  },
  {
   "cell_type": "code",
   "execution_count": 1,
   "metadata": {},
   "outputs": [
    {
     "data": {
      "text/plain": [
       "defined \u001b[32mobject\u001b[39m \u001b[36mP01\u001b[39m\n",
       "\u001b[36mres0_1\u001b[39m: \u001b[32mInt\u001b[39m = \u001b[32m8\u001b[39m\n",
       "\u001b[36mres0_2\u001b[39m: \u001b[32mInt\u001b[39m = \u001b[32m8\u001b[39m"
      ]
     },
     "execution_count": 1,
     "metadata": {},
     "output_type": "execute_result"
    }
   ],
   "source": [
    "object P01 {\n",
    "    def last[A](ls:List[A]):A = ls match {\n",
    "        case h :: Nil => h\n",
    "        case _ :: tail => last(tail)\n",
    "        case _ => throw new NoSuchElementException\n",
    "    }\n",
    "}\n",
    "\n",
    "P01.last(List(1, 1, 2, 3, 5, 8))\n",
    "List(1, 1, 2, 3, 5, 8).last"
   ]
  },
  {
   "cell_type": "markdown",
   "metadata": {},
   "source": [
    "---\n",
    "\n",
    "**  P02 (*) Find the last but one element of a list. **\n",
    "\n",
    "\t     Example:\n",
    "\t     scala> penultimate(List(1, 1, 2, 3, 5, 8))\n",
    "\t     res0: Int = 5"
   ]
  },
  {
   "cell_type": "code",
   "execution_count": 4,
   "metadata": {},
   "outputs": [
    {
     "data": {
      "text/plain": [
       "defined \u001b[32mobject\u001b[39m \u001b[36mP01\u001b[39m\n",
       "\u001b[36mres3_1\u001b[39m: \u001b[32mInt\u001b[39m = \u001b[32m5\u001b[39m\n",
       "\u001b[36mres3_2\u001b[39m: \u001b[32mInt\u001b[39m = \u001b[32m5\u001b[39m"
      ]
     },
     "execution_count": 4,
     "metadata": {},
     "output_type": "execute_result"
    }
   ],
   "source": [
    "object P02 {\n",
    "    def penultimate[A](ls:List[A]):A = ls match {\n",
    "        case h :: _ :: Nil => h\n",
    "        case _ :: tail => penultimate(tail)\n",
    "        case _ => throw new NoSuchElementException\n",
    "    }\n",
    "}\n",
    "\n",
    "P01.penultimate(List(1, 1, 2, 3, 5, 8))\n",
    "List(1, 1, 2, 3, 5, 8).init.last"
   ]
  },
  {
   "cell_type": "markdown",
   "metadata": {},
   "source": [
    "---\n",
    "\n",
    "**  P03 (*) Find the Kth element of a list. **\n",
    "\n",
    "\t     By convention, the first element in the list is element 0.\n",
    "\t     Example:\n",
    "\t     scala> nth(2, List(1, 1, 2, 3, 5, 8))\n",
    "\t     res0: Int = 2"
   ]
  },
  {
   "cell_type": "code",
   "execution_count": 6,
   "metadata": {},
   "outputs": [
    {
     "data": {
      "text/plain": [
       "defined \u001b[32mobject\u001b[39m \u001b[36mP03\u001b[39m\n",
       "\u001b[36mres5_1\u001b[39m: \u001b[32mInt\u001b[39m = \u001b[32m2\u001b[39m\n",
       "\u001b[36mres5_2\u001b[39m: \u001b[32mInt\u001b[39m = \u001b[32m2\u001b[39m"
      ]
     },
     "execution_count": 6,
     "metadata": {},
     "output_type": "execute_result"
    }
   ],
   "source": [
    "object P03 {\n",
    "    def nth[A](n: Int, ls: List[A]):A = (n, ls) match {\n",
    "        case (0, h :: _) => h\n",
    "        case (n, _ :: tail) => nth(n-1, tail)\n",
    "        case (_, Nil) => throw new NoSuchElementException\n",
    "    }\n",
    "}\n",
    "\n",
    "List(1, 1, 2, 3, 5, 8)(2)\n",
    "P03.nth(2, List(1, 1, 2, 3, 5, 8))"
   ]
  },
  {
   "cell_type": "markdown",
   "metadata": {},
   "source": [
    "**  P04 (*) Find the number of elements of a list. **\n",
    "\n",
    "\t     Example:\n",
    "\t     scala> length(List(1, 1, 2, 3, 5, 8))\n",
    "\t     res0: Int = 6\n",
    "\t Tail recursive solution.  Theoretically more efficient; with tail-call\n",
    "\t elimination in the compiler, this would run in constant space.\n",
    "\t Unfortunately, the JVM doesn't do tail-call elimination in the general\n",
    "\t case.  Scala *will* do it if the method is either final or is a local\n",
    "\t function.  In this case, `lengthR` is a local function, so it should\n",
    "\t be properly optimized.\n",
    "\t For more information, see\n",
    "\t http://blog.richdougherty.com/2009/04/tail-calls-tailrec-and-trampolines.html"
   ]
  },
  {
   "cell_type": "code",
   "execution_count": null,
   "metadata": {},
   "outputs": [],
   "source": [
    "object P04 {\n",
    "    @tailrec\n",
    "    def length[A](ls: List[A], len: Int): Int = ls match {\n",
    "        case _ :: Nil => len\n",
    "        case _ :: tail => length(tail, len + 1)\n",
    "    }\n",
    "}\n",
    "P04.length(List(1, 1, 2, 3, 5, 8))"
   ]
  },
  {
   "cell_type": "markdown",
   "metadata": {},
   "source": [
    "\n",
    "\n",
    "\n",
    "**  P05 (*) Reverse a list. **\n",
    "\n",
    "\t     Example:\n",
    "\t     scala> reverse(List(1, 1, 2, 3, 5, 8))\n",
    "\t     res0: List[Int] = List(8, 5, 3, 2, 1, 1)\n",
    "\t Builtin.\n",
    "\t Simple recursive.  O(n^2)\n",
    "\t Tail recursive.\n",
    "\t Pure functional"
   ]
  },
  {
   "cell_type": "markdown",
   "metadata": {},
   "source": [
    "\n",
    "\n",
    "\n",
    "**  P06 (*) Find out whether a list is a palindrome. **\n",
    "\n",
    "\t     Example:\n",
    "\t     scala> isPalindrome(List(1, 2, 3, 2, 1))\n",
    "\t     res0: Boolean = true\n",
    "\t In theory, we could be slightly more efficient than this.  This approach\n",
    "\t traverses the list twice: once to reverse it, and once to check equality.\n",
    "\t Technically, we only need to check the first half of the list for equality\n",
    "\t with the first half of the reversed list.  The code to do that more\n",
    "\t efficiently than this implementation is much more complicated, so we'll\n",
    "\t leave things with this clear and concise implementation."
   ]
  },
  {
   "cell_type": "markdown",
   "metadata": {},
   "source": [
    "\n",
    "\n",
    "\n",
    "**  P07 (*) Flatten a nested list structure. **\n",
    "\n",
    "\t     Example:\n",
    "\t     scala> flatten(List(List(1, 1), 2, List(3, List(5, 8))))\n",
    "\t     res0: List[Any] = List(1, 1, 2, 3, 5, 8)"
   ]
  },
  {
   "cell_type": "markdown",
   "metadata": {},
   "source": [
    "\n",
    "\n",
    "\n",
    "**  P08 (*) Eliminate consecutive duplicates of list elements. **\n",
    "\n",
    "\t     If a list contains repeated elements they should be replaced with a\n",
    "\t     single copy of the element.  The order of the elements should not be\n",
    "\t     changed.\n",
    "\t     Example:\n",
    "\t     scala> compress(List('a, 'a, 'a, 'a, 'b, 'c, 'c, 'a, 'a, 'd, 'e, 'e, 'e, 'e))\n",
    "\t     res0: List[Symbol] = List('a, 'b, 'c, 'a, 'd, 'e)\n",
    "\t Standard recursive.\n",
    "\t Tail recursive.\n",
    "\t Functional."
   ]
  },
  {
   "cell_type": "markdown",
   "metadata": {},
   "source": [
    "\n",
    "\n",
    "\n",
    "**  P09 (*) Pack consecutive duplicates of list elements into sublists. **\n",
    "\n",
    "\t     If a list contains repeated elements they should be placed in separate\n",
    "\t     sublists.\n",
    "\t     Example:\n",
    "\t     scala> pack(List('a, 'a, 'a, 'a, 'b, 'c, 'c, 'a, 'a, 'd, 'e, 'e, 'e, 'e))\n",
    "\t     res0: List[List[Symbol]] = List(List('a, 'a, 'a, 'a), List('b), List('c, 'c), List('a, 'a), List('d), List('e, 'e, 'e, 'e))"
   ]
  },
  {
   "cell_type": "markdown",
   "metadata": {},
   "source": [
    "\n",
    "\n",
    "\n",
    "**  P10 (*) Run-length encoding of a list. **\n",
    "\n",
    "\t     Use the result of problem P09 to implement the so-called run-length\n",
    "\t     encoding data compression method.  Consecutive duplicates of elements are\n",
    "\t     encoded as tuples (N, E) where N is the number of duplicates of the\n",
    "\t     element E.\n",
    "\t     Example:\n",
    "\t     scala> encode(List('a, 'a, 'a, 'a, 'b, 'c, 'c, 'a, 'a, 'd, 'e, 'e, 'e, 'e))\n",
    "\t     res0: List[(Int, Symbol)] = List((4,'a), (1,'b), (2,'c), (2,'a), (1,'d), (4,'e))"
   ]
  },
  {
   "cell_type": "markdown",
   "metadata": {},
   "source": [
    "\n",
    "\n",
    "\n",
    "**  P11 (*) Modified run-length encoding. **\n",
    "\n",
    "\t     Modify the result of problem P10 in such a way that if an element has no\n",
    "\t     duplicates it is simply copied into the result list.  Only elements with\n",
    "\t     duplicates are transferred as (N, E) terms.\n",
    "\t     Example:\n",
    "\t     scala> encodeModified(List('a, 'a, 'a, 'a, 'b, 'c, 'c, 'a, 'a, 'd, 'e, 'e, 'e, 'e))\n",
    "\t     res0: List[Any] = List((4,'a), 'b, (2,'c), (2,'a), 'd, (4,'e))\n",
    "\t Just for fun, here's a more typesafe version."
   ]
  },
  {
   "cell_type": "markdown",
   "metadata": {},
   "source": [
    "\n",
    "\n",
    "\n",
    "**  P12 (*) Decode a run-length encoded list. **\n",
    "\n",
    "\t     Given a run-length code list generated as specified in problem P10,\n",
    "\t     construct its uncompressed version.\n",
    "\t     Example:\n",
    "\t     scala> decode(List((4, 'a), (1, 'b), (2, 'c), (2, 'a), (1, 'd), (4, 'e)))\n",
    "\t     res0: List[Symbol] = List('a, 'a, 'a, 'a, 'b, 'c, 'c, 'a, 'a, 'd, 'e, 'e, 'e, 'e)"
   ]
  },
  {
   "cell_type": "markdown",
   "metadata": {},
   "source": [
    "\n",
    "\n",
    "\n",
    "**  P13 (*) Run-length encoding of a list (direct solution). **\n",
    "\n",
    "\t     Implement the so-called run-length encoding data compression method\n",
    "\t     directly.  I.e. don't use other methods you've written (like P09's\n",
    "\t     pack); do all the work directly.\n",
    "\t     Example:\n",
    "\t     scala> encodeDirect(List('a, 'a, 'a, 'a, 'b, 'c, 'c, 'a, 'a, 'd, 'e, 'e, 'e, 'e))\n",
    "\t     res0: List[(Int, Symbol)] = List((4,'a), (1,'b), (2,'c), (2,'a), (1,'d), (4,'e))\n",
    "\t This is basically a modification of P09."
   ]
  },
  {
   "cell_type": "markdown",
   "metadata": {},
   "source": [
    "\n",
    "\n",
    "\n",
    "**  P14 (*) Duplicate the elements of a list. **\n",
    "\n",
    "\t     Example:\n",
    "\t     scala> duplicate(List('a, 'b, 'c, 'c, 'd))\n",
    "\t     res0: List[Symbol] = List('a, 'a, 'b, 'b, 'c, 'c, 'c, 'c, 'd, 'd)"
   ]
  },
  {
   "cell_type": "markdown",
   "metadata": {},
   "source": [
    "\n",
    "\n",
    "\n",
    "**  P15 (*) Duplicate the elements of a list a given number of times. **\n",
    "\n",
    "\t     Example:\n",
    "\t     scala> duplicateN(3, List('a, 'b, 'c, 'c, 'd))\n",
    "\t     res0: List[Symbol] = List('a, 'a, 'a, 'b, 'b, 'b, 'c, 'c, 'c, 'c, 'c, 'c, 'd, 'd, 'd)"
   ]
  },
  {
   "cell_type": "markdown",
   "metadata": {},
   "source": [
    "\n",
    "\n",
    "\n",
    "**  P16 (*) Drop every Nth element from a list. **\n",
    "\n",
    "\t     Example:\n",
    "\t     scala> drop(3, List('a, 'b, 'c, 'd, 'e, 'f, 'g, 'h, 'i, 'j, 'k))\n",
    "\t     res0: List[Symbol] = List('a, 'b, 'd, 'e, 'g, 'h, 'j, 'k)\n",
    "\t Simple recursion.\n",
    "\t Tail recursive.\n",
    "\t Functional."
   ]
  },
  {
   "cell_type": "markdown",
   "metadata": {},
   "source": [
    "\n",
    "\n",
    "\n",
    "**  P17 (*) Split a list into two parts. **\n",
    "\n",
    "\t     The length of the first part is given.  Use a Tuple for your result.\n",
    "\t     Example:\n",
    "\t     scala> split(3, List('a, 'b, 'c, 'd, 'e, 'f, 'g, 'h, 'i, 'j, 'k))\n",
    "\t     res0: (List[Symbol], List[Symbol]) = (List('a, 'b, 'c),List('d, 'e, 'f, 'g, 'h, 'i, 'j, 'k))\n",
    "\t Builtin.\n",
    "\t Simple recursion.\n",
    "\t Tail recursive.\n",
    "\t Functional (barely not 'builtin')."
   ]
  },
  {
   "cell_type": "markdown",
   "metadata": {},
   "source": [
    "\n",
    "\n",
    "\n",
    "**  P18 (*) Extract a slice from a list. **\n",
    "\n",
    "\t     Given two indices, I and K, the slice is the list containing the elements\n",
    "\t     from and including the Ith element up to but not including the Kth\n",
    "\t     element of the original list.  Start counting the elements with 0.\n",
    "\t     Example:\n",
    "\t     scala> slice(3, 7, List('a, 'b, 'c, 'd, 'e, 'f, 'g, 'h, 'i, 'j, 'k))\n",
    "\t     res0: List[Symbol] = List('d, 'e, 'f, 'g)\n",
    "\t Builtin.\n",
    "\t Simple recursive.\n",
    "\t Tail recursive, using pattern matching.\n",
    "\t Since several of the patterns are similar, we can condense the tail recursive\n",
    "\t solution a little.\n",
    "\t Functional."
   ]
  },
  {
   "cell_type": "markdown",
   "metadata": {},
   "source": [
    "\n",
    "\n",
    "\n",
    "**  P19 (*) Rotate a list N places to the left. **\n",
    "\n",
    "\t     Examples:\n",
    "\t     scala> rotate(3, List('a, 'b, 'c, 'd, 'e, 'f, 'g, 'h, 'i, 'j, 'k))\n",
    "\t     res0: List[Symbol] = List('d, 'e, 'f, 'g, 'h, 'i, 'j, 'k, 'a, 'b, 'c)\n",
    "\t     scala> rotate(-2, List('a, 'b, 'c, 'd, 'e, 'f, 'g, 'h, 'i, 'j, 'k))\n",
    "\t     res1: List[Symbol] = List('j, 'k, 'a, 'b, 'c, 'd, 'e, 'f, 'g, 'h, 'i)"
   ]
  },
  {
   "cell_type": "markdown",
   "metadata": {},
   "source": [
    "\n",
    "\n",
    "\n",
    "**  P20 (*) Remove the Kth element from a list. **\n",
    "\n",
    "\t     Return the list and the removed element in a Tuple.  Elements are\n",
    "\t     numbered from 0.\n",
    "\t     Example:\n",
    "\t     scala> removeAt(1, List('a, 'b, 'c, 'd))\n",
    "\t     res0: (List[Symbol], Symbol) = (List('a, 'c, 'd),'b)\n",
    "\t Alternate, with fewer builtins."
   ]
  },
  {
   "cell_type": "markdown",
   "metadata": {},
   "source": [
    "\n",
    "\n",
    "\n",
    "**  P21 (*) Insert an element at a given position into a list. **\n",
    "\n",
    "\t     Example:\n",
    "\t     scala> insertAt('new, 1, List('a, 'b, 'c, 'd))\n",
    "\t     res0: List[Symbol] = List('a, 'new, 'b, 'c, 'd)"
   ]
  },
  {
   "cell_type": "markdown",
   "metadata": {},
   "source": [
    "\n",
    "\n",
    "\n",
    "**  P22 (*) Create a list containing all integers within a given range. **\n",
    "\n",
    "\t     Example:\n",
    "\t     scala> range(4, 9)\n",
    "\t     res0: List[Int] = List(4, 5, 6, 7, 8, 9)\n",
    "\t Builtin.\n",
    "\t Recursive.\n",
    "\t Tail recursive.\n",
    "\t The classic functional approach would be to use `unfoldr`, which Scala\n",
    "\t doesn't have.  So we'll write one and then use it."
   ]
  },
  {
   "cell_type": "markdown",
   "metadata": {},
   "source": [
    "\n",
    "\n",
    "\n",
    "**  P23 (*) Extract a given number of randomly selected elements from a list. **\n",
    "\n",
    "\t     Example:\n",
    "\t     scala> randomSelect(3, List('a, 'b, 'c, 'd, 'f, 'g, 'h))\n",
    "\t     res0: List[Symbol] = List('e, 'd, 'a)\n",
    "\t     Hint: Use the answer to P20.\n",
    "\t It can be expensive to create a new Random instance every time, so let's\n",
    "\t only do it once."
   ]
  },
  {
   "cell_type": "markdown",
   "metadata": {},
   "source": [
    "\n",
    "\n",
    "\n",
    "**  P24 (*) Lotto: Draw N different random numbers from the set 1..M. **\n",
    "\n",
    "\t     Example:\n",
    "\t     scala> lotto(6, 49)\n",
    "\t     res0: List[Int] = List(23, 1, 17, 33, 21, 37)"
   ]
  },
  {
   "cell_type": "markdown",
   "metadata": {},
   "source": [
    "\n",
    "\n",
    "\n",
    "**  P25 (*) Generate a random permutation of the elements of a list. **\n",
    "\n",
    "\t     Hint: Use the solution of problem P23.\n",
    "\t     Example:\n",
    "\t     scala> randomPermute(List('a, 'b, 'c, 'd, 'e, 'f))\n",
    "\t     res0: List[Symbol] = List('b, 'a, 'd, 'c, 'e, 'f)\n",
    "\t This algorithm is O(n^2), but it makes up for that in simplicity of\n",
    "\t implementation.\n",
    "\t The canonical way to shuffle imperatively is Fisher-Yates.  It requires a\n",
    "\t mutable array.  This is O(n).\n",
    "\t Efficient purely functional algorithms for shuffling are a lot harder.  One\n",
    "\t is described in http://okmij.org/ftp/Haskell/perfect-shuffle.txt using\n",
    "\t Haskell. Implementing it in Scala is left as an exercise for the reader."
   ]
  },
  {
   "cell_type": "markdown",
   "metadata": {},
   "source": [
    "\n",
    "\n",
    "\n",
    "**  P26 (*) Generate the combinations of K distinct objects chosen from the N **\n",
    "\n",
    "\t          elements of a list.\n",
    "\t     In how many ways can a committee of 3 be chosen from a group of 12\n",
    "\t     people?  We all know that there are C(12,3) = 220 possibilities (C(N,K)\n",
    "\t     denotes the well-known binomial coefficient).  For pure mathematicians,\n",
    "\t     this result may be great.  But we want to really generate all the possibilities.\n",
    "\t     Example:\n",
    "\t     scala> combinations(3, List('a, 'b, 'c, 'd, 'e, 'f))\n",
    "\t     res0: List[List[Symbol]] = List(List('a, 'b, 'c), List('a, 'b, 'd), List('a, 'b, 'e), ...\n",
    "\t flatMapSublists is like list.flatMap, but instead of passing each element\n",
    "\t to the function, it passes successive sublists of L."
   ]
  },
  {
   "cell_type": "markdown",
   "metadata": {},
   "source": [
    "\n",
    "\n",
    "\n",
    "**  P27 (*) Group the elements of a set into disjoint subsets. **\n",
    "\n",
    "\t     a) In how many ways can a group of 9 people work in 3 disjoint subgroups\n",
    "\t        of 2, 3 and 4 persons?  Write a function that generates all the\n",
    "\t        possibilities.\n",
    "\t        Example:\n",
    "\t        scala> group3(List('Aldo', 'Beat', 'Carla', 'David', 'Evi', 'Flip', 'Gary', 'Hugo', 'Ida'))\n",
    "\t        res0: List[List[List[String]]] = List(List(List(Aldo, Beat), List(Carla, David, Evi), List(Flip, Gary, Hugo, Ida)), ...\n",
    "\t     b) Generalize the above predicate in a way that we can specify a list\n",
    "\t        of group sizes and the predicate will return a list of groups.\n",
    "\t        Example:\n",
    "\t        scala> group(List(2, 2, 5), List('Aldo', 'Beat', 'Carla', 'David', 'Evi', 'Flip', 'Gary', 'Hugo', 'Ida'))\n",
    "\t        res0: List[List[List[String]]] = List(List(List(Aldo, Beat), List(Carla, David), List(Evi, Flip, Gary, Hugo, Ida)), ...\n",
    "\t     Note that we do not want permutations of the group members;\n",
    "\t     i.e. ((Aldo, Beat), ...) is the same solution as ((Beat, Aldo), ...).\n",
    "\t     However, we make a difference between ((Aldo, Beat), (Carla, David), ...)\n",
    "\t     and ((Carla, David), (Aldo, Beat), ...).\n",
    "\t     You may find more about this combinatorial problem in a good book on\n",
    "\t     discrete mathematics under the term 'multinomial coefficients'."
   ]
  },
  {
   "cell_type": "markdown",
   "metadata": {},
   "source": [
    "\n",
    "\n",
    "\n",
    "**  P28 (*) Sorting a list of lists according to length of sublists. **\n",
    "\n",
    "\t     a) We suppose that a list contains elements that are lists themselves.\n",
    "\t        The objective is to sort the elements of the list according to their\n",
    "\t        length.  E.g. short lists first, longer lists later, or vice versa.\n",
    "\t     Example:\n",
    "\t     scala> lsort(List(List('a, 'b, 'c), List('d, 'e), List('f, 'g, 'h), List('d, 'e), List('i, 'j, 'k, 'l), List('m, 'n), List('o)))\n",
    "\t     res0: List[List[Symbol]] = List(List('o), List('d, 'e), List('d, 'e), List('m, 'n), List('a, 'b, 'c), List('f, 'g, 'h), List('i, 'j, 'k, 'l))\n",
    "\t     b) Again, we suppose that a list contains elements that are lists\n",
    "\t        themselves.  But this time the objective is to sort the elements\n",
    "\t        according to their length frequency; i.e. in the default, sorting is\n",
    "\t        done ascendingly, lists with rare lengths are placed, others with a\n",
    "\t        more frequent length come later.\n",
    "\t     Example:\n",
    "\t     scala> lsortFreq(List(List('a, 'b, 'c), List('d, 'e), List('f, 'g, 'h), List('d, 'e), List('i, 'j, 'k, 'l), List('m, 'n), List('o)))\n",
    "\t     res1: List[List[Symbol]] = List(List('i, 'j, 'k, 'l), List('o), List('a, 'b, 'c), List('f, 'g, 'h), List('d, 'e), List('d, 'e), List('m, 'n))\n",
    "\t     Note that in the above example, the first two lists in the result have\n",
    "\t     length 4 and 1 and both lengths appear just once.  The third and fourth\n",
    "\t     lists have length 3 and there are two list of this length.  Finally, the\n",
    "\t     last three lists have length 2.  This is the most frequent length."
   ]
  },
  {
   "cell_type": "markdown",
   "metadata": {},
   "source": [
    "\n",
    "\n",
    "\n"
   ]
  },
  {
   "cell_type": "markdown",
   "metadata": {},
   "source": [
    "\n",
    "\n",
    "\n"
   ]
  },
  {
   "cell_type": "markdown",
   "metadata": {},
   "source": [
    "\n",
    "\n",
    "\n",
    "**  P31 (*) Determine whether a given integer number is prime. **\n",
    "\n",
    "\t     scala> 7.isPrime\n",
    "\t     res0: Boolean = true\n",
    "\t A fairly naive implementation for primality testing is simply: a number is\n",
    "\t prime if it it not divisible by any prime number less than or equal to its\n",
    "\t square root.\n",
    "\t Here, we use a Stream to create a lazy infinite list of prime numbers.  The\n",
    "\t mutual recursion between `primes` and `isPrime` works because of the limit\n",
    "\t on `isPrime` to the square root of the number being tested.\n",
    "\t Readers interested in more sophisticated (and more efficient) primality tests\n",
    "\t are invited to read http://primes.utm.edu/prove/index.html .  Implementation\n",
    "\t in Scala is left as an exercise for the reader.\n",
    "\t Similarly, a more efficient, functional, lazy, infinite prime list can be found\n",
    "\t at http://article.gmane.org/gmane.comp.lang.haskell.cafe/19470 .  (Haskell\n",
    "\t implementation.)"
   ]
  },
  {
   "cell_type": "markdown",
   "metadata": {},
   "source": [
    "\n",
    "\n",
    "\n",
    "**  P32 (*) Determine the greatest common divisor of two positive integer **\n",
    "\n",
    "\t          numbers.\n",
    "\t     Use Euclid's algorithm.\n",
    "\t     scala> gcd(36, 63)\n",
    "\t     res0: Int = 9"
   ]
  },
  {
   "cell_type": "markdown",
   "metadata": {},
   "source": [
    "\n",
    "\n",
    "\n",
    "**  P33 (*) Determine whether two positive integer numbers are coprime. **\n",
    "\n",
    "\t     Two numbers are coprime if their greatest common divisor equals 1.\n",
    "\t     scala> 35.isCoprimeTo(64)\n",
    "\t     res0: Boolean = true"
   ]
  },
  {
   "cell_type": "markdown",
   "metadata": {},
   "source": [
    "\n",
    "\n",
    "\n",
    "**  P34 (*) Calculate Euler's totient function phi(m). **\n",
    "\n",
    "\t     Euler's so-called totient function phi(m) is defined as the number of\n",
    "\t     positive integers r (1 <= r < m) that are coprime to m.  As a special\n",
    "\t     case, phi(1) is defined to be 1.\n",
    "\t     scala> 10.totient\n",
    "\t     res0: Int = 4"
   ]
  },
  {
   "cell_type": "markdown",
   "metadata": {},
   "source": [
    "\n",
    "\n",
    "\n",
    "**  P35 (*) Determine the prime factors of a given positive integer. **\n",
    "\n",
    "\t     Construct a flat list containing the prime factors in ascending order.\n",
    "\t     scala> 315.primeFactors\n",
    "\t     res0: List[Int] = List(3, 3, 5, 7)"
   ]
  },
  {
   "cell_type": "markdown",
   "metadata": {},
   "source": [
    "\n",
    "\n",
    "\n",
    "**  P36 (*) Determine the prime factors of a given positive integer (2). **\n",
    "\n",
    "\t     Construct a list containing the prime factors and their multiplicity.\n",
    "\t     scala> 315.primeFactorMultiplicity\n",
    "\t     res0: List[(Int, Int)] = List((3,2), (5,1), (7,1))\n",
    "\t     Alternately, use a Map for the result.\n",
    "\t     scala> 315.primeFactorMultiplicity\n",
    "\t     res0: Map[Int,Int] = Map(3 -> 2, 5 -> 1, 7 -> 1)\n",
    "\t One approach is to reuse the solution from P10.\n",
    "\t But we can do it directly.\n",
    "\t This also lets us change primeFactors."
   ]
  },
  {
   "cell_type": "markdown",
   "metadata": {},
   "source": [
    "\n",
    "\n",
    "\n",
    "**  P37 (*) Calculate Euler's totient function phi(m) (improved). **\n",
    "\n",
    "\t     See problem P34 for the definition of Euler's totient function.  If the\n",
    "\t     list of the prime factors of a number m is known in the form of problem\n",
    "\t     P36 then the function phi(m>) can be efficiently calculated as follows:\n",
    "\t     Let [[p_1, m_1], [p_2, m_2], [p_3, m_3], ...] be the list of prime\n",
    "\t     factors (and their multiplicities) of a given number m.  Then phi(m) can\n",
    "\t     be calculated with the following formula:\n",
    "\t     phi(m) = (p_1-1)*p_1^(m_1-1) * (p_2-1)*p_2^(m_2-1) * (p_3-1)*p_3^(m_3-1) * ...\n",
    "\t     Note that a^b stands for the bth power of a."
   ]
  },
  {
   "cell_type": "markdown",
   "metadata": {},
   "source": [
    "\n",
    "\n",
    "\n",
    "**  P38 (*) Compare the two methods of calculating Euler's totient function. **\n",
    "\n",
    "\t     Use the solutions of problems P34 and P37 to compare the algorithms.  Try\n",
    "\t     to calculate phi(10090) as an example.\n",
    "\t Here's an object that will test the relative execution times of the two\n",
    "\t approaches.\n",
    "\t On a 2.4 GHz Athlon 64 X2, here's what happens the first time `test` is called:\n",
    "\t   Preload primes: 20 ms.\n",
    "\t   P34 (10090): 65 ms.\n",
    "\t   P37 (10090): 3 ms.\n",
    "\t The JVM tends to profile its execution, though.  Here's a several-iteration run.\n",
    "\t   scala> import P38._\n",
    "\t   import P38._\n",
    "\t   scala> test(10090)\n",
    "\t   Preload primes: 9 ms.\n",
    "\t   P34 (10090): 53 ms.\n",
    "\t   P37 (10090): 4 ms.\n",
    "\t   scala> test(10090)\n",
    "\t   Preload primes: 2 ms.\n",
    "\t   P34 (10090): 28 ms.\n",
    "\t   P37 (10090): 1 ms.\n",
    "\t   scala> test(10090)\n",
    "\t   Preload primes: 2 ms.\n",
    "\t   P34 (10090): 17 ms.\n",
    "\t   P37 (10090): 1 ms.\n",
    "\t   scala> test(10090)\n",
    "\t   Preload primes: 2 ms.\n",
    "\t   P34 (10090): 3 ms.\n",
    "\t   P37 (10090): 0 ms.\n",
    "\t   scala> test(10090)\n",
    "\t   Preload primes: 4 ms.\n",
    "\t   P34 (10090): 2 ms.\n",
    "\t   P37 (10090): 0 ms."
   ]
  },
  {
   "cell_type": "markdown",
   "metadata": {},
   "source": [
    "\n",
    "\n",
    "\n",
    "**  P39 (*) A list of prime numbers. **\n",
    "\n",
    "\t     Given a range of integers by its lower and upper limit, construct a list\n",
    "\t     of all prime numbers in that range.\n",
    "\t     scala> listPrimesinRange(7 to 31)\n",
    "\t     res0: List[Int] = List(7, 11, 13, 17, 19, 23, 29, 31)"
   ]
  },
  {
   "cell_type": "markdown",
   "metadata": {},
   "source": [
    "\n",
    "\n",
    "\n",
    "**  P40 (*) Goldbach's conjecture. **\n",
    "\n",
    "\t     Goldbach's conjecture says that every positive even number greater than 2\n",
    "\t     is the sum of two prime numbers.  E.g. 28 = 5 + 23.  It is one of the\n",
    "\t     most famous facts in number theory that has not been proved to be correct\n",
    "\t     in the general case.  It has been numerically confirmed up to very large\n",
    "\t     numbers (much larger than Scala's Int can represent).  Write a function\n",
    "\t     to find the two prime numbers that sum up to a given even integer.\n",
    "\t     scala> 28.goldbach\n",
    "\t     res0: (Int, Int) = (5,23)"
   ]
  },
  {
   "cell_type": "markdown",
   "metadata": {},
   "source": [
    "\n",
    "\n",
    "\n",
    "**  P41 (*) A list of Goldbach compositions. **\n",
    "\n",
    "\t     Given a range of integers by its lower and upper limit, print a list of\n",
    "\t     all even numbers and their Goldbach composition.\n",
    "\t     scala> printGoldbachList(9 to 20)\n",
    "\t     10 = 3 + 7\n",
    "\t     12 = 5 + 7\n",
    "\t     14 = 3 + 11\n",
    "\t     16 = 3 + 13\n",
    "\t     18 = 5 + 13\n",
    "\t     20 = 3 + 17\n",
    "\t     In most cases, if an even number is written as the sum of two prime\n",
    "\t     numbers, one of them is very small.  Very rarely, the primes are both\n",
    "\t     bigger than, say, 50.  Try to find out how many such cases there are in\n",
    "\t     the range 2..3000.\n",
    "\t     Example (minimum value of 50 for the primes):\n",
    "\t     scala> printGoldbachListLimited(1 to 2000, 50)\n",
    "\t     992 = 73 + 919\n",
    "\t     1382 = 61 + 1321\n",
    "\t     1856 = 67 + 1789\n",
    "\t     1928 = 61 + 1867"
   ]
  },
  {
   "cell_type": "markdown",
   "metadata": {},
   "source": [
    "\n",
    "\n",
    "\n"
   ]
  },
  {
   "cell_type": "markdown",
   "metadata": {},
   "source": [
    "\n",
    "\n",
    "\n"
   ]
  },
  {
   "cell_type": "markdown",
   "metadata": {},
   "source": [
    "\n",
    "\n",
    "\n"
   ]
  },
  {
   "cell_type": "markdown",
   "metadata": {},
   "source": [
    "\n",
    "\n",
    "\n"
   ]
  },
  {
   "cell_type": "markdown",
   "metadata": {},
   "source": [
    "\n",
    "\n",
    "\n",
    "**  P46 (*) Truth tables for logical expressions. **\n",
    "\n",
    "\t     Define functions and, or, nand, nor, xor, impl, and equ (for logical\n",
    "\t     equivalence) which return true or false according to the result of their\n",
    "\t     respective operations; e.g. and(A, B) is true if and only if both A and B\n",
    "\t     are true.\n",
    "\t     scala> and(true, true)\n",
    "\t     res0: Boolean = true\n",
    "\t     scala> xor(true. true)\n",
    "\t     res1: Boolean = false\n",
    "\t     A logical expression in two variables can then be written as a function of\n",
    "\t     two variables, e.g: (a: Boolean, b: Boolean) => and(or(a, b), nand(a, b))\n",
    "\t     Now, write a function called table2 which prints the truth table of a\n",
    "\t     given logical expression in two variables.\n",
    "\t     scala> table2((a: Boolean, b: Boolean) => and(a, or(a, b)))\n",
    "\t     A     B     result\n",
    "\t     true  true  true\n",
    "\t     true  false true\n",
    "\t     false true  false\n",
    "\t     false false false\n",
    "\t The trick here is not using builtins.  We'll define `not`, `and`, and `or`\n",
    "\t directly (using pattern matching), and the other functions in terms of those\n",
    "\t three."
   ]
  },
  {
   "cell_type": "markdown",
   "metadata": {},
   "source": [
    "\n",
    "\n",
    "\n",
    "**  P47 (*) Truth tables for logical expressions (2). **\n",
    "\n",
    "\t     Continue problem P46 by redefining and, or, etc as operators.  (i.e. make\n",
    "\t     them methods of a new class with an implicit conversion from Boolean.)\n",
    "\t     not will have to be left as a object method.\n",
    "\t     scala> table2((a: Boolean, b: Boolean) => a and (a or not(b)))\n",
    "\t     A     B     result\n",
    "\t     true  true  true\n",
    "\t     true  false true\n",
    "\t     false true  false\n",
    "\t     false false false\n",
    "\t For simplicity, we remove `and`, `or`, `equ`, `xor`, `nor`, `nand`, and\n",
    "\t `impl` from the S99Logic object before putting them into a new class."
   ]
  },
  {
   "cell_type": "markdown",
   "metadata": {},
   "source": [
    "\n",
    "\n",
    "\n"
   ]
  },
  {
   "cell_type": "markdown",
   "metadata": {},
   "source": [
    "\n",
    "\n",
    "\n",
    "**  P49 (*) Gray code. **\n",
    "\n",
    "\t     An n-bit Gray code is a sequence of n-bit strings constructed according\n",
    "\t     to certain rules. For example,\n",
    "\t     n = 1: C(1) = ('0', '1').\n",
    "\t     n = 2: C(2) = ('00', '01', '11', '10').\n",
    "\t     n = 3: C(3) = ('000', '001', '011', '010', '110', '111', '101', '100').\n",
    "\t     Find out the construction rules and write a function to generate Gray\n",
    "\t     codes.\n",
    "\t     scala> gray(3)\n",
    "\t     res0 List[String] = List(000, 001, 011, 010, 110, 111, 101, 100)\n",
    "\t     See if you can use memoization to make the function more\n",
    "\t     efficient."
   ]
  },
  {
   "cell_type": "markdown",
   "metadata": {},
   "source": [
    "\n",
    "\n",
    "\n",
    "**  P50 (***) Huffman code. **\n",
    "\n",
    "\t     First of all, consult a good book on discrete mathematics or algorithms\n",
    "\t     for a detailed description of Huffman codes!\n",
    "\t     We suppose a set of symbols with their frequencies, given as a list of\n",
    "\t     (S, F) Tuples.  E.g. (('a', 45), ('b', 13), ('c', 12), ('d', 16),\n",
    "\t     ('e', 9), ('f', 5)).  Our objective is to construct a list of (S, C)\n",
    "\t     Tuples, where C is the Huffman code word for the symbol S.\n",
    "\t     scala> huffman(List(('a', 45), ('b', 13), ('c', 12), ('d', 16), ('e', 9), ('f', 5)))\n",
    "\t     res0: List[String, String] = List((a,0), (b,101), (c,100), (d,111), (e,1101), (f,1100))\n",
    "\t We'll do this functionally, with the two-queue algorithm.  (Scala's priority\n",
    "\t queues are mutable.)\n",
    "\t This ordering chooses q1 in case of ties, which helps minimize tree\n",
    "\t depth."
   ]
  },
  {
   "cell_type": "markdown",
   "metadata": {},
   "source": [
    "\n",
    "\n",
    "\n"
   ]
  },
  {
   "cell_type": "markdown",
   "metadata": {},
   "source": [
    "\n",
    "\n",
    "\n"
   ]
  },
  {
   "cell_type": "markdown",
   "metadata": {},
   "source": [
    "\n",
    "\n",
    "\n"
   ]
  },
  {
   "cell_type": "markdown",
   "metadata": {},
   "source": [
    "\n",
    "\n",
    "\n"
   ]
  },
  {
   "cell_type": "markdown",
   "metadata": {},
   "source": [
    "\n",
    "\n",
    "\n",
    "**  P55 (*) Construct completely balanced binary trees. **\n",
    "\n",
    "\t     In a completely balanced binary tree, the following property holds for\n",
    "\t     every node: The number of nodes in its left subtree and the number of\n",
    "\t     nodes in its right subtree are almost equal, which means their difference\n",
    "\t     is not greater than one.\n",
    "\t     Define an object named Tree.  Write a function Tree.cBalanced to\n",
    "\t     construct completely balanced binary trees for a given number of nodes.\n",
    "\t     The function should generate all solutions.  The function should take as\n",
    "\t     parameters the number of nodes and a single value to put in all of them.\n",
    "\t     scala> Tree.cBalanced(4, 'x')\n",
    "\t     res0: List(Node[String]) = List(T(x T(x . .) T(x . T(x . .))), T(x T(x . .) T(x T(x . .) .)), ..."
   ]
  },
  {
   "cell_type": "markdown",
   "metadata": {},
   "source": [
    "\n",
    "\n",
    "\n",
    "**  P56 (*) Symmetric binary trees. **\n",
    "\n",
    "\t     Let us call a binary tree symmetric if you can draw a vertical line\n",
    "\t     through the root node and then the right subtree is the mirror image of\n",
    "\t     the left subtree.  Add an isSymmetric method to the Tree class to check\n",
    "\t     whether a given binary tree is symmetric.  Hint: Write an isMirrorOf\n",
    "\t     method first to check whether one tree is the mirror image of another.\n",
    "\t     We are only interested in the structure, not in the contents of the\n",
    "\t     nodes.\n",
    "\t     scala> Node('a', Node('b'), Node('c')).isSymmetric\n",
    "\t     res0: Boolean = true"
   ]
  },
  {
   "cell_type": "markdown",
   "metadata": {},
   "source": [
    "\n",
    "\n",
    "\n",
    "**  P57 (*) Binary search trees (dictionaries). **\n",
    "\n",
    "\t     Write a function to add an element to a binary search tree.\n",
    "\t     scala> End.addValue(2)\n",
    "\t     res0: Node[Int] = T(2 . .)\n",
    "\t     scala> res0.addValue(3)\n",
    "\t     res1: Node[Int] = T(2 . T(3 . .))\n",
    "\t     scala> res1.addValue(0)\n",
    "\t     res2: Node[Int] = T(2 T(0 . .) T(3 . .))\n",
    "\t     Hint: The abstract definition of addValue in Tree should be\n",
    "\t     `def addValue[U >: T <% Ordered[U]](x: U): Tree[U]`.  The `>: T` is\n",
    "\t     because addValue's parameters need to be _contravariant_ in T.\n",
    "\t     (Conceptually, we're adding nodes above existing nodes.  In order for the\n",
    "\t     subnodes to be of type T or any subtype, the upper nodes must be of type\n",
    "\t     T or any supertype.)  The `<% Ordered[U]` allows us to use the < operator\n",
    "\t     on the values in the tree.\n",
    "\t     Use that function to construct a binary tree from a list of integers.\n",
    "\t     scala> Tree.fromList(List(3, 2, 5, 7, 1))\n",
    "\t     res3: Node[Int] = T(3 T(2 T(1 . .) .) T(5 . T(7 . .)))\n",
    "\t     Finally, use that function to test your solution to P56.\n",
    "\t     scala> Tree.fromList(List(5, 3, 18, 1, 4, 12, 21)).isSymmetric\n",
    "\t     res4: Boolean = true\n",
    "\t     scala> Tree.fromList(List(3, 2, 5, 7, 4)).isSymmetric\n",
    "\t     res5: Boolean = false\n",
    "\t We still need the view bound here because it's just syntatic sugar for\n",
    "\t `def addValue[U](x: U)(implicit f: (U) => Ordered[U])` and if we left it\n",
    "\t out, the compiler would see the different parameter list and think we\n",
    "\t were overloading `addValue` instead of overriding it."
   ]
  },
  {
   "cell_type": "markdown",
   "metadata": {},
   "source": [
    "\n",
    "\n",
    "\n",
    "**  P58 (*) Generate-and-test paradigm. **\n",
    "\n",
    "\t     Apply the generate-and-test paradigm to construct all symmetric,\n",
    "\t     completely balanced binary trees with a given number of nodes.\n",
    "\t     scala> Tree.symmetricBalancedTrees(5, 'x')\n",
    "\t     res0: List[Node[String]] = List(T(x T(x . T(x . .)) T(x T(x . .) .)), T(x T(x T(x . .) .) T(x . T(x . .))))"
   ]
  },
  {
   "cell_type": "markdown",
   "metadata": {},
   "source": [
    "\n",
    "\n",
    "\n",
    "**  P59 (*) Construct height-balanced binary trees. **\n",
    "\n",
    "\t     In a height-balanced binary tree, the following property holds for every\n",
    "\t     node: The height of its left subtree and the height of its right subtree\n",
    "\t     are almost equal, which means their difference is not greater than one.\n",
    "\t     Write a method Tree.hbalTrees to construct height-balanced binary trees\n",
    "\t     for a given height with a supplied value for the nodes.  The function\n",
    "\t     should generate all solutions.\n",
    "\t     scala> Tree.hbalTrees(3, 'x')\n",
    "\t     res0: List[Node[String]] = List(T(x T(x T(x . .) T(x . .)) T(x T(x . .) T(x . .))), T(x T(x T(x . .) T(x . .)) T(x T(x . .) .)), ..."
   ]
  },
  {
   "cell_type": "markdown",
   "metadata": {},
   "source": [
    "\n",
    "\n",
    "\n",
    "**  P60 (*) Construct height-balanced binary trees with a given number of nodes. **\n",
    "\n",
    "\t     Consider a height-balanced binary tree of height H.  What is the maximum\n",
    "\t     number of nodes it can contain?  Clearly, MaxN = 2H - 1.  However, what\n",
    "\t     is the minimum number MinN?  This question is more difficult.  Try to\n",
    "\t     find a recursive statement and turn it into a function minHbalNodes that\n",
    "\t     takes a height and returns MinN.\n",
    "\t     scala> minHbalNodes(3)\n",
    "\t     res0: Int = 4\n",
    "\t     On the other hand, we might ask: what is the maximum height H a\n",
    "\t     height-balanced binary tree with N nodes can have?  Write a maxHbalHeight\n",
    "\t     function.\n",
    "\t     scala> maxHbalHeight(4)\n",
    "\t     res1: Int = 3\n",
    "\t     Now, we can attack the main problem: construct all the height-balanced\n",
    "\t     binary trees with a given nuber of nodes.\n",
    "\t     scala> Tree.hbalTreesWithNodes(4, 'x')\n",
    "\t     res2: List[Node[String]] = List(T(x T(x T(x . .) .) T(x . .)), T(x T(x . T(x . .)) T(x . .)), ...\n",
    "\t     Find out how many height-balanced trees exist for N = 15."
   ]
  },
  {
   "cell_type": "markdown",
   "metadata": {},
   "source": [
    "\n",
    "\n",
    "\n",
    "**  P61 (*) Count the leaves of a binary tree. **\n",
    "\n",
    "\t     A leaf is a node with no successors.  Write a method leafCount to count\n",
    "\t     them.\n",
    "\t     scala> Node('x', Node('x'), End).leafCount\n",
    "\t     res0: Int = 1"
   ]
  },
  {
   "cell_type": "markdown",
   "metadata": {},
   "source": [
    "\n",
    "\n",
    "\n",
    "**  P62 (*) Collect the internal nodes of a binary tree in a list. **\n",
    "\n",
    "\t     An internal node of a binary tree has either one or two non-empty\n",
    "\t     successors.  Write a method internalList to collect them in a list.\n",
    "\t     scala> Node('a', Node('b'), Node('c', Node('d'), Node('e'))).internalList\n",
    "\t     res0: List[Char] = List(a, c)"
   ]
  },
  {
   "cell_type": "markdown",
   "metadata": {},
   "source": [
    "\n",
    "\n",
    "\n",
    "**  P63 (*) Construct a complete binary tree. **\n",
    "\n",
    "\t     A complete binary tree with height H is defined as follows: The levels\n",
    "\t     1,2,3,...,H-1 contain the maximum number of nodes (i.e 2^(i-1) at the\n",
    "\t     level i, note that we start counting the levels from 1 at the root).  In\n",
    "\t     level H, which may contain less than the maximum possible number of\n",
    "\t     nodes, all the nodes are 'left-adjusted'.  This means that in a\n",
    "\t     levelorder tree traversal all internal nodes come first, the leaves come\n",
    "\t     second, and empty successors (the Ends which are not really nodes!) come\n",
    "\t     last.\n",
    "\t     Particularly, complete binary trees are used as data structures (or\n",
    "\t     addressing schemes) for heaps.\n",
    "\t     We can assign an address number to each node in a complete binary tree by\n",
    "\t     enumerating the nodes in levelorder, starting at the root with number 1.\n",
    "\t     In doing so, we realize that for every node X with address A the\n",
    "\t     following property holds: The address of X's left and right successors\n",
    "\t     are 2*A and 2*A+1, respectively, supposed the successors do exist.  This\n",
    "\t     fact can be used to elegantly construct a complete binary tree structure.\n",
    "\t     Write a method completeBinaryTree that takes as parameters the number of\n",
    "\t     nodes and the value to put in each node.\n",
    "\t     scala> Tree.completeBinaryTree(6, 'x')\n",
    "\t     res0: Node[String] = T(x T(x T(x . .) T(x . .)) T(x T(x . .) .))"
   ]
  },
  {
   "cell_type": "markdown",
   "metadata": {},
   "source": [
    "\n",
    "\n",
    "\n",
    "**  P64 (*) Layout a binary tree (1). **\n",
    "\n",
    "\t     As a preparation for drawing a tree, a layout algorithm is required to\n",
    "\t     determine the position of each node in a rectangular grid.  Several\n",
    "\t     layout methods are conceivable, one of them is shown in the illustration\n",
    "\t     below.\n",
    "\t     In this layout strategy, the position of a node v is obtained by the\n",
    "\t     following two rules:\n",
    "\t     * x(v) is equal to the position of the node v in the inorder sequence\n",
    "\t     * y(v) is equal to the depth of the node v in the tree\n",
    "\t     In order to store the position of the nodes, we add a new class with the\n",
    "\t     additional information.\n",
    "\t     case class PositionedNode[+T](override val value: T, override val left: Tree[T], override val right: Tree[T], x: Int, y: Int) extends Node[T](value, left, right) {\n",
    "\t       override def toString = 'T[' + x.toString + ',' + y.toString + '](' + value.toString + ' ' + left.toString + ' ' + right.toString + ')'\n",
    "\t     }\n",
    "\t     Write a method layoutBinaryTree that turns a tree of normal Nodes into a\n",
    "\t     tree of PositionedNodes.\n",
    "\t     scala> Node('a', Node('b', End, Node('c')), Node('d')).layoutBinaryTree\n",
    "\t     res0: PositionedNode[Char] = T[3,1](a T[1,2](b . T[2,3](c . .)) T[4,2](d . .))"
   ]
  },
  {
   "cell_type": "markdown",
   "metadata": {},
   "source": [
    "\n",
    "\n",
    "\n",
    "**  P65 (*) Layout a binary tree (2). **\n",
    "\n",
    "\t     An alternative layout method is depicted in the illustration opposite.\n",
    "\t     Find out the rules and write the corresponding method.  Hint: On a given\n",
    "\t     level, the horizontal distance between neighboring nodes is constant.\n",
    "\t     Use the same conventions as in problem P64.\n",
    "\t     scala> Node('a', Node('b', End, Node('c')), Node('d')).layoutBinaryTree2\n",
    "\t     res0: PositionedNode[Char] = T[3,1]('a T[1,2]('b . T[2,3]('c . .)) T[5,2]('d . .))\n",
    "\t The layout rules for a node v with parent u and depth d are as follows:\n",
    "\t * x(v) is x(u) plus or minus 2^(m-d), where m is the maximum depth of the\n",
    "\t   tree.  The leftmost node has x(v) == 1.\n",
    "\t * y(v) == d"
   ]
  },
  {
   "cell_type": "markdown",
   "metadata": {},
   "source": [
    "\n",
    "\n",
    "\n",
    "**  P66 (***) Layout a binary tree (3). **\n",
    "\n",
    "\t     Yet another layout strategy is shown in the illustration opposite.  The\n",
    "\t     method yields a very compact layout while maintaining a certain symmetry\n",
    "\t     in every node.  Find out the rules and write the corresponding method.\n",
    "\t     Hint: Consider the horizontal distance between a node and its successor\n",
    "\t     nodes.  How tight can you pack together two subtrees to construct the\n",
    "\t     combined binary tree?\n",
    "\t     Use the same conventions as in problem P64 and P65.  Note: This is a\n",
    "\t     difficult problem.  Don't give up too early!\n",
    "\t     scala> Node('a', Node('b', End, Node('c')), Node('d')).layoutBinaryTree3\n",
    "\t     res0: PositionedNode[Char] = T[2,1]('a T[1,2]('b . T[2,3]('c . .)) T[3,2]('d . .))\n",
    "\t One way of tacking this problem is to first consider the envelope bounding\n",
    "\t the subtree of a given node, relative to the node's own position.  Each node\n",
    "\t then queries its subtrees for their envelopes and then determines how much\n",
    "\t to shift them to maintain at least one unit of space between adjacent nodes.\n",
    "\t From there, actually calculating the layout is relatively easy.\n",
    "\t We add a `bounds` property to the tree, which is a list of pairs of integers\n",
    "\t giving the left and right offset from a given node for each tree level\n",
    "\t beneath it.  The toplevel node uses `bounds` to determine the x position of\n",
    "\t the root of the tree, and then each node uses its shift calculation to tell\n",
    "\t its subnodes their locations."
   ]
  },
  {
   "cell_type": "markdown",
   "metadata": {},
   "source": [
    "\n",
    "\n",
    "\n",
    "**  P67 (*) A string representation of binary trees. **\n",
    "\n",
    "\t     Somebody represents binary trees as strings of the following type (see\n",
    "\t     example opposite):\n",
    "\t     a(b(d,e),c(,f(g,)))\n",
    "\t     Write a method which generates this string representation, if the tree\n",
    "\t     is given as usual (in Nodes and Ends).  Use that method for the Tree\n",
    "\t     class's and subclass's toString methods.  Then write a method (on the\n",
    "\t     Tree object) which does this inverse; i.e. given the string\n",
    "\t     representation, construct the tree in the usual form.\n",
    "\t     For simplicity, suppose the information in the nodes is a single letter\n",
    "\t     and there are no spaces in the string.\n",
    "\t     scala> Node('a', Node('b', Node('d'), Node('e')), Node('c', End, Node('f', Node('g'), End))).toString\n",
    "\t     res0: String = a(b(d,e),c(,f(g,)))\n",
    "\t     scala> Tree.fromString('a(b(d,e),c(,f(g,)))')\n",
    "\t     res1: Node[Char] = a(b(d,e),c(,f(g,)))\n",
    "\t TODO: Implement string2Tree with parser combinators."
   ]
  },
  {
   "cell_type": "markdown",
   "metadata": {},
   "source": [
    "\n",
    "\n",
    "\n",
    "**  P68 (*) Preorder and inorder sequences of binary trees. **\n",
    "\n",
    "\t     We consider binary trees with nodes that are identified by single\n",
    "\t     lower-case letters, as in the example of problem P67.\n",
    "\t     a) Write methods preorder and inorder that construct the preorder and\n",
    "\t        inorder sequence of a given binary tree, respectively.  The results\n",
    "\t        should be lists, e.g. List('a','b','d','e','c','f','g') for the\n",
    "\t        preorder sequence of the example in problem P67.\n",
    "\t     scala> Tree.string2Tree('a(b(d,e),c(,f(g,)))').preorder\n",
    "\t     res0: List[Char] = List(a, b, d, e, c, f, g)\n",
    "\t     scala> Tree.string2Tree('a(b(d,e),c(,f(g,)))').inorder\n",
    "\t     res1: List[Char] = List(d, b, e, a, c, g, f)\n",
    "\t     b) If both the preorder sequence and the inorder sequence of the nodes of\n",
    "\t        a binary tree are given, then the tree is determined unambiguously.\n",
    "\t        Write a method preInTree that does the job.\n",
    "\t     scala> Tree.preInTree(List('a', 'b', 'd', 'e', 'c', 'f', 'g'), List('d', 'b', 'e', 'a', 'c', 'g', 'f'))\n",
    "\t     res2: Node[Char] = a(b(d,e),c(,f(g,)))\n",
    "\t     What happens if the same character appears in more than one node?  Try,\n",
    "\t     for instance, Tree.preInTree(List('a', 'b', 'a'), List('b', 'a', 'a'))."
   ]
  },
  {
   "cell_type": "markdown",
   "metadata": {},
   "source": [
    "\n",
    "\n",
    "\n",
    "**  P69 (*) Dotstring representation of binary trees. **\n",
    "\n",
    "\t     We consider again binary trees with nodes that are identified by single\n",
    "\t     lower-case letters, as in the example of problem P67.  Such a tree can be\n",
    "\t     represented by the preorder sequence of its nodes in which dots (.) are\n",
    "\t     inserted where an empty subtree (End) is encountered during the tree\n",
    "\t     traversal.  For example, the tree shown in problem P67 is represented as\n",
    "\t     'abd..e..c.fg...'.  First, try to establish a syntax (BNF or syntax\n",
    "\t     diagrams) and then write two methods, toDotstring and fromDotstring,\n",
    "\t     which do the conversion in both directions.\n",
    "\t     scala> Tree.string2Tree('a(b(d,e),c(,f(g,)))').toDotstring\n",
    "\t     res0: String = abd..e..c.fg...\n",
    "\t     scala> Tree.fromDotstring('abd..e..c.fg...')\n",
    "\t     res1: Node[Char] = a(b(d,e),c(,f(g,)))"
   ]
  },
  {
   "cell_type": "markdown",
   "metadata": {},
   "source": [
    "\n",
    "\n",
    "\n",
    "**  P70 (*) Tree construction from a node string. **\n",
    "\n",
    "\t     We suppose that the nodes of a multiway tree contain single characters.\n",
    "\t     In the depth-first order sequence of its nodes, a special character ^ has\n",
    "\t     been inserted whenever, during the tree traversal, the move is a\n",
    "\t     backtrack to the previous level.\n",
    "\t     By this rule, the tree in the figure opposite is represented as:\n",
    "\t     afg^^c^bd^e^^^\n",
    "\t     Define the syntax of the string and write a function string2MTree to\n",
    "\t     construct an MTree from a String.  Make the function an implicit\n",
    "\t     conversion from String.  Write the reverse function, and make it the\n",
    "\t     toString method of MTree.\n",
    "\t     scala> MTree('a', List(MTree('f', List(MTree('g'))), MTree('c'), MTree('b', List(MTree('d'), MTree('e'))))).toString\n",
    "\t     res0: String = afg^^c^bd^e^^^"
   ]
  },
  {
   "cell_type": "markdown",
   "metadata": {},
   "source": [
    "\n",
    "\n",
    "\n",
    "**  P71 (*) Determine the internal path length of a tree. **\n",
    "\n",
    "\t     We define the internal path length of a multiway tree as the total sum of\n",
    "\t     the path lengths from the root to all nodes of the tree.  By this\n",
    "\t     definition, the tree in the figure of problem P70 has an internal path\n",
    "\t     length of 9.  Write a method internalPathLength to return that sum.\n",
    "\t     scala> 'afg^^c^bd^e^^^'.internalPathLength\n",
    "\t     res0: Int = 9"
   ]
  },
  {
   "cell_type": "markdown",
   "metadata": {},
   "source": [
    "\n",
    "\n",
    "\n",
    "**  P72 (*) Construct the postorder sequence of the tree nodes. **\n",
    "\n",
    "\t     Write a method postorder which constructs the postorder sequence of the\n",
    "\t     nodes of a multiway tree.  The result should be a List.\n",
    "\t     scala> 'afg^^c^bd^e^^^'.postorder\n",
    "\t     res0: List[Char] = List(g, f, c, d, e, b, a)"
   ]
  },
  {
   "cell_type": "markdown",
   "metadata": {},
   "source": [
    "\n",
    "\n",
    "\n",
    "**  P73 (*) Lisp-like tree representation. **\n",
    "\n",
    "\t     There is a particular notation for multiway trees in Lisp.  Lisp is a\n",
    "\t     prominent functional programming language.  In Lisp almost everything is\n",
    "\t     a list.\n",
    "\t     Our example tree would be represented in Lisp as (a (f g) c (b d e)).\n",
    "\t     Note that in the 'lispy' notation a node with successors (children)in the\n",
    "\t     tree is always the first element in a list, followed by its children.\n",
    "\t     The 'lispy' representation of a multiway tree is a sequence of atoms and\n",
    "\t     parentheses '(' and ')', with the atoms separated by spaces.  We can\n",
    "\t     represent this syntax as a Scala String.  Write a method lispyTree which\n",
    "\t     constructs a 'lispy string' from an MTree.\n",
    "\t     scala> MTree('a', List(MTree('b', List(MTree('c'))))).lispyTree\n",
    "\t     res0: String = (a (b c))\n",
    "\t     As a second, even more interesting, exercise try to write a method that\n",
    "\t     takes a 'lispy' list and turns it into a multiway tree.\n",
    "\t     [Note: This is certainly one way of looking at Lisp notation, but it's\n",
    "\t      not how the language actually represents that syntax internally.  I can\n",
    "\t      elaborate more on this, if requested.  ]"
   ]
  },
  {
   "cell_type": "markdown",
   "metadata": {},
   "source": [
    "\n",
    "\n",
    "\n"
   ]
  },
  {
   "cell_type": "markdown",
   "metadata": {},
   "source": [
    "\n",
    "\n",
    "\n"
   ]
  },
  {
   "cell_type": "markdown",
   "metadata": {},
   "source": [
    "\n",
    "\n",
    "\n"
   ]
  },
  {
   "cell_type": "markdown",
   "metadata": {},
   "source": [
    "\n",
    "\n",
    "\n"
   ]
  },
  {
   "cell_type": "markdown",
   "metadata": {},
   "source": [
    "\n",
    "\n",
    "\n"
   ]
  },
  {
   "cell_type": "markdown",
   "metadata": {},
   "source": [
    "\n",
    "\n",
    "\n"
   ]
  },
  {
   "cell_type": "markdown",
   "metadata": {},
   "source": [
    "\n",
    "\n",
    "\n",
    "**  P80 (***) Conversions. **\n",
    "\n",
    "\t     Write methods to generate the graph-term and adjacency-list forms from a\n",
    "\t     Graph.  Write another method to output the human-friendly form for a\n",
    "\t     graph.  Make it the toString method for Graph.  Write one more function\n",
    "\t     to create a graph of Chars and Ints from a human-friendly string.  Make\n",
    "\t     it implicitly convert from Strings to Graphs.\n",
    "\t     scala> Graph.fromString('[b-c, f-c, g-h, d, f-b, k-f, h-g]').toTermForm\n",
    "\t     res0: (List[String], List[(String, String, Unit)]) = (List(d, k, h, c, f, g, b),List((h,g,()), (k,f,()), (f,b,()), (g,h,()), (f,c,()), (b,c,())))\n",
    "\t     scala> Digraph.fromStringLabel('[p>q/9, m>q/7, k, p>m/5]').toAdjacentForm\n",
    "\t     res1: List[(String, List[(String, Int)])] = List((m,List((q,7))), (p,List((m,5), (q,9))), (k,List()), (q,List()))"
   ]
  },
  {
   "cell_type": "markdown",
   "metadata": {},
   "source": [
    "\n",
    "\n",
    "\n",
    "**  P81 (*) Path from one node to another one. **\n",
    "\n",
    "\t     Write a method named findPaths to find an acyclic path from one node to\n",
    "\t     another in a graph.  The method should return all paths.\n",
    "\t     scala> Digraph.fromStringLabel('[p>q/9, m>q/7, k, p>m/5]').findPaths('p', 'q')\n",
    "\t     res0: List[List[String]] = List(List(p, q), List(p, m, q))\n",
    "\t     scala> Digraph.fromStringLabel('[p>q/9, m>q/7, k, p>m/5]').findPaths('p', 'k')\n",
    "\t     res1: List[List[String]] = List()"
   ]
  },
  {
   "cell_type": "markdown",
   "metadata": {},
   "source": [
    "\n",
    "\n",
    "\n",
    "**  P82 (*) Cycle from a given node. **\n",
    "\n",
    "\t     Write a method named findCycles to find closed paths (cycles) starting at\n",
    "\t     a given node in a graph.  The method should return all cycles.\n",
    "\t     scala> Graph.fromString('[b-c, f-c, g-h, d, f-b, k-f, h-g]').findCycles('f')\n",
    "\t     res0: List[List[String]] = List(List(f, c, b, f), List(f, b, c, f))"
   ]
  },
  {
   "cell_type": "markdown",
   "metadata": {},
   "source": [
    "\n",
    "\n",
    "\n",
    "**  P83 (*) Construct all spanning trees. **\n",
    "\n",
    "\t     Write a method spanningTrees to construct all spanning trees of a given\n",
    "\t     graph.  With this method, find out how many spanning trees there are for\n",
    "\t     the graph depicted to the right.  The data of this example graph can be\n",
    "\t     found below.  When you have a correct solution for the spanningTrees\n",
    "\t     method, use it to define two other useful methods: isTree and\n",
    "\t     isConnected.  Both are five-minute tasks!\n",
    "\t     Graph:\n",
    "\t     Graph.term(List('a', 'b', 'c', 'd', 'e', 'f', 'g', 'h'),\n",
    "\t                List(('a', 'b'), ('a', 'd'), ('b', 'c'), ('b', 'e'),\n",
    "\t                     ('c', 'e'), ('d', 'e'), ('d', 'f'), ('d', 'g'),\n",
    "\t                     ('e', 'h'), ('f', 'g'), ('g', 'h')))\n",
    "\t     scala> Graph.fromString('[a-b, b-c, a-c]').spanningTrees\n",
    "\t     res0: List[Graph[String,Unit]] = List([a-b, b-c], [a-c, b-c], [a-b, a-c])\n",
    "\t Only undirected graphs have spanning trees.\n",
    "\t edgeConnectsToGraph is needed for P84, so it's not an internal function."
   ]
  },
  {
   "cell_type": "markdown",
   "metadata": {},
   "source": [
    "\n",
    "\n",
    "\n",
    "**  P84 (*) Construct the minimal spanning tree. **\n",
    "\n",
    "\t     Write a method minimalSpanningTree to construct the minimal spanning tree\n",
    "\t     of a given labeled graph.  Hint: Use Prim's Algorithm.  A small\n",
    "\t     modification of the solution of P83 does the trick.  The data of the\n",
    "\t     example graph to the right can be found below.\n",
    "\t     Graph:\n",
    "\t     Graph.termLabel(\n",
    "\t       List('a', 'b', 'c', 'd', 'e', 'f', 'g', 'h'),\n",
    "\t            List(('a', 'b', 5), ('a', 'd', 3), ('b', 'c', 2), ('b', 'e', 4),\n",
    "\t                 ('c', 'e', 6), ('d', 'e', 7), ('d', 'f', 4), ('d', 'g', 3),\n",
    "\t                 ('e', 'h', 5), ('f', 'g', 4), ('g', 'h', 1)))\n",
    "\t     scala> Graph.fromStringLabel('[a-b/1, b-c/2, a-c/3]').minimalSpanningTree\n",
    "\t     res0: Graph[String,Int] = [a-b/1, b-c/2]"
   ]
  },
  {
   "cell_type": "markdown",
   "metadata": {},
   "source": [
    "\n",
    "\n",
    "\n",
    "**  P85 (*) Graph isomorphism. **\n",
    "\n",
    "\t     Two graphs G1(N1,E1) and G2(N2,E2) are isomorphic if there is a bijection\n",
    "\t     f: N1  N2 such that for any nodes X,Y of N1, X and Y are adjacent if and\n",
    "\t     only if f(X) and f(Y) are adjacent.\n",
    "\t     Write a method that determines whether two graphs are isomorphic.\n",
    "\t     scala> Graph.fromString('[a-b]').isIsomorphicTo(Graph.fromString('[5-7]'))\n",
    "\t     res0: Boolean = true\n",
    "\t This problem is in NP (it's one of the few for which it is unknown whether\n",
    "\t it's NP-complete or not), so it gets slow very quickly.  Essentially, we\n",
    "\t consider every mapping from the nodes of one graph into the other, which\n",
    "\t is O(n!).  There are some heuristics to prune the search tree\n",
    "\t (isValidMapping), but that can only go so far.\n",
    "\t For a more efficient algorithm (O(n^2 log n)), see 'Practical Graph\n",
    "\t Isomorphism' by Brendan D. McKay of Vanderbilt University.\n",
    "\t http://cs.anu.edu.au/~bdm/nauty/PGI/\n",
    "\t Build a lazy list so we only have to evaluate as much as necessary.\n",
    "\t Used on partially-filled isomorphisms to weed out some early."
   ]
  },
  {
   "cell_type": "markdown",
   "metadata": {},
   "source": [
    "\n",
    "\n",
    "\n",
    "**  P86 (*) Node degree and graph coloration. **\n",
    "\n",
    "\t     a) Write a method Node.degree that determines the degree of a given node.\n",
    "\t     scala> Graph.fromString('[a-b, b-c, a-c, a-d]').nodes('a').degree\n",
    "\t     res0: Int = 3\n",
    "\t     b) Write a method that lists all nodes of a graph sorted according to\n",
    "\t        decreasing degree.\n",
    "\t     scala> Graph.fromString('[a-b, b-c, a-c, a-d]').nodesByDegree\n",
    "\t     res1: List[Graph[String,Unit]#Node] = List(Node(a), Node(c), Node(b), Node(d))\n",
    "\t     c) Use Welsh-Powell's algorithm to paint the nodes of a graph in such a\n",
    "\t        way that adjacent nodes have different colors.  Make a method\n",
    "\t        colorNodes that returns a list of tuples, each of which contains a\n",
    "\t        node and an integer representing its color.\n",
    "\t     scala> Graph.fromString('[a-b, b-c, a-c, a-d]').colorNodes\n",
    "\t     res2: List[(Graph[String,Unit]#Node,Int)] = List((Node(a),1), (Node(b),2), (Node(c), 3), (Node(d), 2))"
   ]
  },
  {
   "cell_type": "markdown",
   "metadata": {},
   "source": [
    "\n",
    "\n",
    "\n",
    "**  P87 (*) Depth-first order graph traversal. **\n",
    "\n",
    "\t     Write a method that generates a depth-first order graph traversal\n",
    "\t     sequence.  The starting point should be specified, and the output should\n",
    "\t     be a list of nodes that are reachable from this starting point (in\n",
    "\t     depth-first order).\n",
    "\t     scala> Graph.fromString('[a-b, b-c, e, a-c, a-d]').nodesByDepthFrom('d')\n",
    "\t     res0: List[String] = List(c, b, a, d)\n",
    "\t Node.nodesByDepth is a little inefficient.  With immutable Lists, it ends up\n",
    "\t rebuilding the entire list every time it adds a node.  It would be more\n",
    "\t efficient to build the list backwards (adding new elements to the beginning)\n",
    "\t and then reverse it in nodesByDepthFrom.\n",
    "\t Similarly, nodesByDepthR isn't tail recursive.  If a node has more neighbors\n",
    "\t than there are stack frames, this will be a problem."
   ]
  },
  {
   "cell_type": "markdown",
   "metadata": {},
   "source": [
    "\n",
    "\n",
    "\n",
    "**  P88 (*) Connected components. **\n",
    "\n",
    "\t     Write a function that splits a graph into its connected components.\n",
    "\t     scala> Graph.fromString('[a-b, c]').splitGraph\n",
    "\t     res0: List[Graph[String,Unit]] = List([a-b], [c])\n",
    "\t partners are all nodes either adjacent to this node or to which this\n",
    "\t node is adjacent.\n",
    "\t If node N is a member of edge E, returns the other member of the edge.\n",
    "\t This differs from edgeTarget in that if it is given an edge in a directed\n",
    "\t graph and N is the target of that edge, it will still return the source\n",
    "\t node for the edge.\n",
    "\t Just to avoid repetition, we can now define Graph.edgeTarget in terms of\n",
    "\t edgePartner."
   ]
  },
  {
   "cell_type": "markdown",
   "metadata": {},
   "source": [
    "\n",
    "\n",
    "\n",
    "**  P89 (*) Bipartite graphs. **\n",
    "\n",
    "\t     Write a function that determines whether a given graph is bipartite.\n",
    "\t     scala> Digraph.fromString('[a>b, c>a, d>b]').isBipartite\n",
    "\t     res0: Boolean = true\n",
    "\t     scala> Graph.fromString('[a-b, b-c, c-a]').isBipartite\n",
    "\t     res1: Boolean = false\n",
    "\t     scala> Graph.fromString('[a-b, b-c, d]').isBipartite\n",
    "\t     res2: Boolean = true\n",
    "\t     scala> Graph.fromString('[a-b, b-c, d, e-f, f-g, g-e, h]').isBipartite\n",
    "\t     res3: Boolean = false"
   ]
  },
  {
   "cell_type": "markdown",
   "metadata": {},
   "source": [
    "\n",
    "\n",
    "\n",
    "**  P90 (*) Eight queens problem **\n",
    "\n",
    "\t     This is a classical problem in computer science.  The objective is to\n",
    "\t     place eight queens on a chessboard so that no two queens are attacking\n",
    "\t     each other; i.e., no two queens are in the same row, the same column, or\n",
    "\t     on the same diagonal.\n",
    "\t     Hint: Represent the positions of the queens as a list of numbers 1..N.\n",
    "\t     Example: List(4, 2, 7, 3, 6, 8, 5, 1) means that the queen in the first\n",
    "\t     column is in row 4, the queen in the second column is in row 2, etc.  Use\n",
    "\t     the generate-and-test paradigm."
   ]
  },
  {
   "cell_type": "markdown",
   "metadata": {},
   "source": [
    "\n",
    "\n",
    "\n",
    "**  P91 (*) Knight's tour. **\n",
    "\n",
    "\t     Another famous problem is this one: How can a knight jump on an NN\n",
    "\t     chessboard in such a way that it visits every square exactly once?\n",
    "\t     Hints: Represent the squares by pairs of their coordinates of the form\n",
    "\t     (X, Y), where both X and Y are integers between 1 and N. (Alternately,\n",
    "\t     define a Point class for the same purpose.)  Write a function\n",
    "\t     jump(N, (X, Y), (U, V)) to express the fact that a knight can jump from\n",
    "\t     (X, Y) to (U, V) on a NN chessboard.  And finally, represent the\n",
    "\t     solution of our problem as a list of knight positions (the knight's\n",
    "\t     tour).\n",
    "\t Utility function.\n",
    "\t Filters out the positions already seen in the given set, and orders the\n",
    "\t points with the one with the fewest possibilities first, in line with\n",
    "\t Warnsdorff's heuristic.\n",
    "\t Find one tour.\n",
    "\t Because we're using the stack for our state here, one of the simplest ways\n",
    "\t to signal a result is to throw an exception and not worry about properly\n",
    "\t unwinding the stack.\n",
    "\t Find all tours.\n",
    "\t This is actually easier than finding just one.  The drawback, of course,\n",
    "\t is that there are so many that this will take a long time and use a large\n",
    "\t amount of memory building the list.\n",
    "\t Find all tours, lazily.\n",
    "\t Instead of implicitly embedding our state into the stack, here we\n",
    "\t explicitly keep a list containing what were stack frames in the other\n",
    "\t versions.  Also, rather than mapping across a list in each function call,\n",
    "\t we just make a frame for each potential destination and drop each one onto\n",
    "\t our imitation stack."
   ]
  },
  {
   "cell_type": "markdown",
   "metadata": {},
   "source": [
    "\n",
    "\n",
    "\n",
    "**  P92 (***) Von Koch's conjecture. **\n",
    "\n",
    "\t     Several years ago I met a mathematician who was intrigued by a problem\n",
    "\t     for which he didn't know a solution.  His name was Von Koch, and I don't\n",
    "\t     know whether the problem has been solved since.  [The 'I' here refers to\n",
    "\t     the author of the Prolog problems.  ]\n",
    "\t     d e-f      1 5-4  * *1*\n",
    "\t     | |        | |    6 2\n",
    "\t     a-b-c  ->  7-3-6  *4*3*\n",
    "\t     |          |      5\n",
    "\t     g          2      *\n",
    "\t     Anyway the puzzle goes like this: Given a tree with N nodes (and hence\n",
    "\t     N-1 edges), find a way to enumerate the nodes from 1 to N and,\n",
    "\t     accordingly, the edges from 1 to N-1 in such a way, that for each edge K\n",
    "\t     the difference of its node numbers is equal to K.  The conjecture is that\n",
    "\t     this is always possible.\n",
    "\t     For small trees the problem is easy to solve by hand.  However, for\n",
    "\t     larger trees, and 14 is already very large, it is extremely difficult to\n",
    "\t     find a solution.  And remember, we don't know for sure whether there is\n",
    "\t     always a solution!\n",
    "\t     Write a function that calculates a numbering scheme for a given tree.\n",
    "\t     What is the solution for the larger tree pictured below?\n",
    "\t     i g d-k   p\n",
    "\t      | |     |\n",
    "\t       a-c-e-q-b\n",
    "\t      /| |   |\n",
    "\t     h b f   m"
   ]
  },
  {
   "cell_type": "markdown",
   "metadata": {},
   "source": [
    "\n",
    "\n",
    "\n"
   ]
  },
  {
   "cell_type": "markdown",
   "metadata": {},
   "source": [
    "\n",
    "\n",
    "\n"
   ]
  },
  {
   "cell_type": "markdown",
   "metadata": {},
   "source": [
    "\n",
    "\n",
    "\n"
   ]
  },
  {
   "cell_type": "markdown",
   "metadata": {},
   "source": [
    "\n",
    "\n",
    "\n"
   ]
  },
  {
   "cell_type": "markdown",
   "metadata": {},
   "source": [
    "\n",
    "\n",
    "\n",
    "**  P97 (*) Sudoku. **\n",
    "\n",
    "\t     Sudoku puzzles go like this:\n",
    "\t     Problem statement                Solution\n",
    "\t     .  .  4 | 8  .  . | .  1  7      9  3  4 | 8  2  5 | 6  1  7\n",
    "\t             |         |                      |         |\n",
    "\t     6  7  . | 9  .  . | .  .  .      6  7  2 | 9  1  4 | 8  5  3\n",
    "\t             |         |                      |         |\n",
    "\t     5  .  8 | .  3  . | .  .  4      5  1  8 | 6  3  7 | 9  2  4\n",
    "\t     --------+---------+--------      --------+---------+--------\n",
    "\t     3  .  . | 7  4  . | 1  .  .      3  2  5 | 7  4  8 | 1  6  9\n",
    "\t             |         |                      |         |\n",
    "\t     .  6  9 | .  .  . | 7  8  .      4  6  9 | 1  5  3 | 7  8  2\n",
    "\t             |         |                      |         |\n",
    "\t     .  .  1 | .  6  9 | .  .  5      7  8  1 | 2  6  9 | 4  3  5\n",
    "\t     --------+---------+--------      --------+---------+--------\n",
    "\t     1  .  . | .  8  . | 3  .  6      1  9  7 | 5  8  2 | 3  4  6\n",
    "\t             |         |                      |         |\n",
    "\t     .  .  . | .  .  6 | .  9  1      8  5  3 | 4  7  6 | 2  9  1\n",
    "\t             |         |                      |         |\n",
    "\t     2  4  . | .  .  1 | 5  .  .      2  4  6 | 3  9  1 | 5  7  8\n",
    "\t     Every spot in the puzzle belongs to a (horizontal) row and a (vertical)\n",
    "\t     column, as well as to one single 33 square (which we call 'square' for\n",
    "\t     short).  At the beginning, some of the spots carry a single-digit number\n",
    "\t     between 1 and 9.  The problem is to fill the missing spots with digits\n",
    "\t     in such a way that every number between 1 and 9 appears exactly once in\n",
    "\t     each row, in each column, and in each square.\n",
    "\t This is a very simple, functional-style implementation.  It uses mutable\n",
    "\t Arrays because they're the only O(1) access structure that Scala currently\n",
    "\t has.  (An O(1) access, O(1) update, immutable data structure might be added\n",
    "\t to Scala 2.8.)  The updates are all done functionally, which results in a\n",
    "\t lot of copying of data.  Hopefully, this will become more efficient in\n",
    "\t Scala 2.8.\n",
    "\t Anyway, the approach is pretty simple.  A sudoku board is represented as an\n",
    "\t array of Eithers.  Left elements represent solved cells, while Right\n",
    "\t elements contain the set of possibilities for their cell.  Solving the\n",
    "\t board consists of trying possibilities for each unsolved cell until either\n",
    "\t a solution is found or a contradiction (in the form of an empty Right set)\n",
    "\t is found.\n",
    "\t The code is pretty flexible.  The sudoku board can hold any type of data,\n",
    "\t although string2Board generates the traditional values 1..9.  Likewise,\n",
    "\t the board can be any size, but it will only work properly if the array\n",
    "\t passed in has a length that is a fourth power."
   ]
  },
  {
   "cell_type": "markdown",
   "metadata": {},
   "source": [
    "\n",
    "\n",
    "\n"
   ]
  },
  {
   "cell_type": "markdown",
   "metadata": {},
   "source": [
    "\n",
    "\n",
    "\n"
   ]
  }
 ],
 "metadata": {
  "kernelspec": {
   "display_name": "Scala",
   "language": "scala",
   "name": "scala"
  },
  "language_info": {
   "codemirror_mode": "text/x-scala",
   "file_extension": ".scala",
   "mimetype": "text/x-scala",
   "name": "scala212",
   "nbconvert_exporter": "script",
   "pygments_lexer": "scala",
   "version": "2.12.2"
  }
 },
 "nbformat": 4,
 "nbformat_minor": 2
}
